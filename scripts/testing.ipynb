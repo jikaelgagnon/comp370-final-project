{
 "cells": [
  {
   "cell_type": "markdown",
   "metadata": {},
   "source": [
    "Testing filtering of stop words in dataset. To do this we can use the python natural language toolkit: https://www.nltk.org/"
   ]
  },
  {
   "cell_type": "code",
   "execution_count": 9,
   "metadata": {},
   "outputs": [
    {
     "name": "stdout",
     "output_type": "stream",
     "text": [
      "['i', 'me', 'my', 'myself', 'we', 'our', 'ours', 'ourselves', 'you', \"you're\", \"you've\", \"you'll\", \"you'd\", 'your', 'yours', 'yourself', 'yourselves', 'he', 'him', 'his', 'himself', 'she', \"she's\", 'her', 'hers', 'herself', 'it', \"it's\", 'its', 'itself', 'they', 'them', 'their', 'theirs', 'themselves', 'what', 'which', 'who', 'whom', 'this', 'that', \"that'll\", 'these', 'those', 'am', 'is', 'are', 'was', 'were', 'be', 'been', 'being', 'have', 'has', 'had', 'having', 'do', 'does', 'did', 'doing', 'a', 'an', 'the', 'and', 'but', 'if', 'or', 'because', 'as', 'until', 'while', 'of', 'at', 'by', 'for', 'with', 'about', 'against', 'between', 'into', 'through', 'during', 'before', 'after', 'above', 'below', 'to', 'from', 'up', 'down', 'in', 'out', 'on', 'off', 'over', 'under', 'again', 'further', 'then', 'once', 'here', 'there', 'when', 'where', 'why', 'how', 'all', 'any', 'both', 'each', 'few', 'more', 'most', 'other', 'some', 'such', 'no', 'nor', 'not', 'only', 'own', 'same', 'so', 'than', 'too', 'very', 's', 't', 'can', 'will', 'just', 'don', \"don't\", 'should', \"should've\", 'now', 'd', 'll', 'm', 'o', 're', 've', 'y', 'ain', 'aren', \"aren't\", 'couldn', \"couldn't\", 'didn', \"didn't\", 'doesn', \"doesn't\", 'hadn', \"hadn't\", 'hasn', \"hasn't\", 'haven', \"haven't\", 'isn', \"isn't\", 'ma', 'mightn', \"mightn't\", 'mustn', \"mustn't\", 'needn', \"needn't\", 'shan', \"shan't\", 'shouldn', \"shouldn't\", 'wasn', \"wasn't\", 'weren', \"weren't\", 'won', \"won't\", 'wouldn', \"wouldn't\"]\n"
     ]
    },
    {
     "name": "stderr",
     "output_type": "stream",
     "text": [
      "[nltk_data] Downloading package stopwords to /home/jikael/nltk_data...\n",
      "[nltk_data]   Package stopwords is already up-to-date!\n",
      "[nltk_data] Downloading package punkt_tab to /home/jikael/nltk_data...\n",
      "[nltk_data]   Package punkt_tab is already up-to-date!\n"
     ]
    }
   ],
   "source": [
    "import nltk\n",
    "from nltk.corpus import stopwords\n",
    "import string\n",
    "nltk.download('stopwords')\n",
    "nltk.download('punkt_tab')\n",
    "print(stopwords.words('english'))"
   ]
  },
  {
   "cell_type": "code",
   "execution_count": 25,
   "metadata": {},
   "outputs": [
    {
     "name": "stdout",
     "output_type": "stream",
     "text": [
      "['This', 'is', 'a', 'sample', 'sentence', ',', 'showing', 'off', 'the', 'stop', 'words', 'filtration', '.', \"Don't\", '.']\n",
      "sample sentence showing stop words filtration\n"
     ]
    }
   ],
   "source": [
    "# from nltk.tokenize import word_tokenize\n",
    "from nltk.tokenize import TweetTokenizer # use this one because the other one struggles with words like \"don't\"\n",
    "\n",
    "tokenizer = TweetTokenizer()\n",
    " \n",
    "example_sent = \"\"\"This is a sample sentence,\n",
    "                  showing off the stop words filtration. Don't.\"\"\"\n",
    "\n",
    "stop_words = set(stopwords.words('english'))\n",
    " \n",
    "word_tokens = tokenizer.tokenize(example_sent)\n",
    "# converts the words in word_tokens to lower case and then checks whether \n",
    "#they are present in stop_words or not\n",
    "filtered_sentence = ' '.join([w for w in word_tokens if (not w.lower() in stop_words) and (not w in string.punctuation)])\n",
    "\n",
    "print(word_tokens)\n",
    "print(filtered_sentence)"
   ]
  },
  {
   "cell_type": "code",
   "execution_count": null,
   "metadata": {},
   "outputs": [
    {
     "ename": "SyntaxError",
     "evalue": "invalid syntax (1199914503.py, line 3)",
     "output_type": "error",
     "traceback": [
      "\u001b[0;36m  Cell \u001b[0;32mIn[90], line 3\u001b[0;36m\u001b[0m\n\u001b[0;31m    filtered_sentence = ' '.join([for w in word_tokens if (not w.lower() in stop_words) and (not w in string.punctuation)])\u001b[0m\n\u001b[0m                                  ^\u001b[0m\n\u001b[0;31mSyntaxError\u001b[0m\u001b[0;31m:\u001b[0m invalid syntax\n"
     ]
    }
   ],
   "source": [
    "def filter_sentence(sentence, stop_words, tokenizer):\n",
    "    word_tokens = tokenizer.tokenize(sentence)\n",
    "    filtered_sentence = ' '.join([w for w in word_tokens if (not w.lower() in stop_words) and (not w in string.punctuation)])\n",
    "    return filtered_sentence"
   ]
  },
  {
   "cell_type": "code",
   "execution_count": 80,
   "metadata": {},
   "outputs": [
    {
     "data": {
      "text/plain": [
       "array(['document', 'first', 'one', 'second', 'third', 'use'], dtype=object)"
      ]
     },
     "execution_count": 80,
     "metadata": {},
     "output_type": "execute_result"
    }
   ],
   "source": [
    "from sklearn.feature_extraction.text import TfidfVectorizer\n",
    "corpus = [\n",
    "    'This is the first document.',\n",
    "    'This document is the second document.',\n",
    "    'And this is the third one.',\n",
    "    'Is this the first document?',\n",
    "    \"What if I use don't?\"\n",
    "]\n",
    "filtered_corpus = [filter_sentence(sentence, stop_words, tokenizer) for sentence in corpus]\n",
    "# filtered_corpus\n",
    "vectorizer = TfidfVectorizer()\n",
    "X = vectorizer.fit_transform(filtered_corpus)\n",
    "vectorizer.get_feature_names_out()\n",
    "# print(X.shape)"
   ]
  },
  {
   "cell_type": "code",
   "execution_count": 81,
   "metadata": {},
   "outputs": [
    {
     "name": "stdout",
     "output_type": "stream",
     "text": [
      "[[0.63871058 0.76944707 0.         0.         0.         0.        ]\n",
      " [0.80130969 0.         0.         0.59824977 0.         0.        ]\n",
      " [0.         0.         0.70710678 0.         0.70710678 0.        ]\n",
      " [0.63871058 0.76944707 0.         0.         0.         0.        ]\n",
      " [0.         0.         0.         0.         0.         1.        ]]\n"
     ]
    }
   ],
   "source": [
    "print(X.toarray())"
   ]
  },
  {
   "cell_type": "code",
   "execution_count": 82,
   "metadata": {},
   "outputs": [],
   "source": [
    "import pandas as pd\n",
    "df = pd.read_csv('../data/vance.tsv', sep='\\t')\n",
    "df['valid'] = df['description'].map(lambda x: type(x) == str)\n",
    "df=df[df['valid']]"
   ]
  },
  {
   "cell_type": "code",
   "execution_count": 85,
   "metadata": {},
   "outputs": [
    {
     "data": {
      "text/html": [
       "<div>\n",
       "<style scoped>\n",
       "    .dataframe tbody tr th:only-of-type {\n",
       "        vertical-align: middle;\n",
       "    }\n",
       "\n",
       "    .dataframe tbody tr th {\n",
       "        vertical-align: top;\n",
       "    }\n",
       "\n",
       "    .dataframe thead th {\n",
       "        text-align: right;\n",
       "    }\n",
       "</style>\n",
       "<table border=\"1\" class=\"dataframe\">\n",
       "  <thead>\n",
       "    <tr style=\"text-align: right;\">\n",
       "      <th></th>\n",
       "      <th>Unnamed: 0</th>\n",
       "      <th>source</th>\n",
       "      <th>author</th>\n",
       "      <th>title</th>\n",
       "      <th>description</th>\n",
       "      <th>url</th>\n",
       "      <th>publishedAt</th>\n",
       "      <th>topic</th>\n",
       "      <th>negative/neutral/positive</th>\n",
       "      <th>valid</th>\n",
       "      <th>filtered_description</th>\n",
       "    </tr>\n",
       "  </thead>\n",
       "  <tbody>\n",
       "    <tr>\n",
       "      <th>0</th>\n",
       "      <td>2</td>\n",
       "      <td>Biztoc.com</td>\n",
       "      <td>breakingthenews.net</td>\n",
       "      <td>JD Vance slams Harris: 'Tomorrow, you're fired'</td>\n",
       "      <td>Republican vice presidential candidate JD Vanc...</td>\n",
       "      <td>https://biztoc.com/x/c4c538f75498736e</td>\n",
       "      <td>2024-11-04T22:53:56Z</td>\n",
       "      <td>NaN</td>\n",
       "      <td>NaN</td>\n",
       "      <td>True</td>\n",
       "      <td>republican vice presidential candidate jd vanc...</td>\n",
       "    </tr>\n",
       "    <tr>\n",
       "      <th>1</th>\n",
       "      <td>3</td>\n",
       "      <td>Biztoc.com</td>\n",
       "      <td>nbcnews.com</td>\n",
       "      <td>'Feels kind of weird': Vance reflects and look...</td>\n",
       "      <td>Sen. JD Vance, who says running as Trump's VP ...</td>\n",
       "      <td>https://biztoc.com/x/339813fc9b9bc9be</td>\n",
       "      <td>2024-11-04T22:53:24Z</td>\n",
       "      <td>NaN</td>\n",
       "      <td>NaN</td>\n",
       "      <td>True</td>\n",
       "      <td>sen jd vance says running trump's vp pick cost...</td>\n",
       "    </tr>\n",
       "    <tr>\n",
       "      <th>2</th>\n",
       "      <td>6</td>\n",
       "      <td>NBC News</td>\n",
       "      <td>Henry J. Gomez and Alec Hernández</td>\n",
       "      <td>'Feels kind of weird': Vance reflects and look...</td>\n",
       "      <td>Sen. JD Vance, who says running as Trump's VP ...</td>\n",
       "      <td>https://www.nbcnews.com/politics/2024-election...</td>\n",
       "      <td>2024-11-04T22:15:42Z</td>\n",
       "      <td>NaN</td>\n",
       "      <td>NaN</td>\n",
       "      <td>True</td>\n",
       "      <td>sen jd vance says running trump's vp pick cost...</td>\n",
       "    </tr>\n",
       "    <tr>\n",
       "      <th>3</th>\n",
       "      <td>7</td>\n",
       "      <td>Bleeding Cool News</td>\n",
       "      <td>Ray Flook</td>\n",
       "      <td>Last Week Tonight: HBO Releases John Oliver Se...</td>\n",
       "      <td>For us, Sunday night's edition of HBO's Last W...</td>\n",
       "      <td>https://bleedingcool.com/tv/last-week-tonight-...</td>\n",
       "      <td>2024-11-04T15:07:08Z</td>\n",
       "      <td>NaN</td>\n",
       "      <td>NaN</td>\n",
       "      <td>True</td>\n",
       "      <td>us sunday night's edition hbo's last week toni...</td>\n",
       "    </tr>\n",
       "    <tr>\n",
       "      <th>4</th>\n",
       "      <td>10</td>\n",
       "      <td>New York Post</td>\n",
       "      <td>Emily Crane</td>\n",
       "      <td>JD Vance says Trump is ‘fired up’ over death o...</td>\n",
       "      <td>Republican vice presidential candidate JD Vanc...</td>\n",
       "      <td>https://nypost.com/2024/11/04/us-news/jd-vance...</td>\n",
       "      <td>2024-11-04T15:06:04Z</td>\n",
       "      <td>NaN</td>\n",
       "      <td>NaN</td>\n",
       "      <td>True</td>\n",
       "      <td>republican vice presidential candidate jd vanc...</td>\n",
       "    </tr>\n",
       "  </tbody>\n",
       "</table>\n",
       "</div>"
      ],
      "text/plain": [
       "   Unnamed: 0              source                             author  \\\n",
       "0           2          Biztoc.com                breakingthenews.net   \n",
       "1           3          Biztoc.com                        nbcnews.com   \n",
       "2           6            NBC News  Henry J. Gomez and Alec Hernández   \n",
       "3           7  Bleeding Cool News                          Ray Flook   \n",
       "4          10       New York Post                        Emily Crane   \n",
       "\n",
       "                                               title  \\\n",
       "0    JD Vance slams Harris: 'Tomorrow, you're fired'   \n",
       "1  'Feels kind of weird': Vance reflects and look...   \n",
       "2  'Feels kind of weird': Vance reflects and look...   \n",
       "3  Last Week Tonight: HBO Releases John Oliver Se...   \n",
       "4  JD Vance says Trump is ‘fired up’ over death o...   \n",
       "\n",
       "                                         description  \\\n",
       "0  Republican vice presidential candidate JD Vanc...   \n",
       "1  Sen. JD Vance, who says running as Trump's VP ...   \n",
       "2  Sen. JD Vance, who says running as Trump's VP ...   \n",
       "3  For us, Sunday night's edition of HBO's Last W...   \n",
       "4  Republican vice presidential candidate JD Vanc...   \n",
       "\n",
       "                                                 url           publishedAt  \\\n",
       "0              https://biztoc.com/x/c4c538f75498736e  2024-11-04T22:53:56Z   \n",
       "1              https://biztoc.com/x/339813fc9b9bc9be  2024-11-04T22:53:24Z   \n",
       "2  https://www.nbcnews.com/politics/2024-election...  2024-11-04T22:15:42Z   \n",
       "3  https://bleedingcool.com/tv/last-week-tonight-...  2024-11-04T15:07:08Z   \n",
       "4  https://nypost.com/2024/11/04/us-news/jd-vance...  2024-11-04T15:06:04Z   \n",
       "\n",
       "   topic  negative/neutral/positive  valid  \\\n",
       "0    NaN                        NaN   True   \n",
       "1    NaN                        NaN   True   \n",
       "2    NaN                        NaN   True   \n",
       "3    NaN                        NaN   True   \n",
       "4    NaN                        NaN   True   \n",
       "\n",
       "                                filtered_description  \n",
       "0  republican vice presidential candidate jd vanc...  \n",
       "1  sen jd vance says running trump's vp pick cost...  \n",
       "2  sen jd vance says running trump's vp pick cost...  \n",
       "3  us sunday night's edition hbo's last week toni...  \n",
       "4  republican vice presidential candidate jd vanc...  "
      ]
     },
     "execution_count": 85,
     "metadata": {},
     "output_type": "execute_result"
    }
   ],
   "source": [
    "df.head()"
   ]
  },
  {
   "cell_type": "code",
   "execution_count": 83,
   "metadata": {},
   "outputs": [],
   "source": [
    "df['filtered_description'] = df['description'].map(lambda x: filter_sentence(x, stop_words, tokenizer))"
   ]
  },
  {
   "cell_type": "code",
   "execution_count": null,
   "metadata": {},
   "outputs": [],
   "source": []
  },
  {
   "cell_type": "code",
   "execution_count": 87,
   "metadata": {},
   "outputs": [],
   "source": [
    "def get_filtered_descriptions(df, stop_words, tokenizer):\n",
    "    df['filtered_description'] = df['description'].map(lambda x: filter_sentence(x, stop_words, tokenizer))"
   ]
  },
  {
   "cell_type": "code",
   "execution_count": 88,
   "metadata": {},
   "outputs": [],
   "source": [
    "get_filtered_descriptions(df, stop_words, tokenizer)"
   ]
  },
  {
   "cell_type": "code",
   "execution_count": 89,
   "metadata": {},
   "outputs": [
    {
     "data": {
      "text/html": [
       "<div>\n",
       "<style scoped>\n",
       "    .dataframe tbody tr th:only-of-type {\n",
       "        vertical-align: middle;\n",
       "    }\n",
       "\n",
       "    .dataframe tbody tr th {\n",
       "        vertical-align: top;\n",
       "    }\n",
       "\n",
       "    .dataframe thead th {\n",
       "        text-align: right;\n",
       "    }\n",
       "</style>\n",
       "<table border=\"1\" class=\"dataframe\">\n",
       "  <thead>\n",
       "    <tr style=\"text-align: right;\">\n",
       "      <th></th>\n",
       "      <th>Unnamed: 0</th>\n",
       "      <th>source</th>\n",
       "      <th>author</th>\n",
       "      <th>title</th>\n",
       "      <th>description</th>\n",
       "      <th>url</th>\n",
       "      <th>publishedAt</th>\n",
       "      <th>topic</th>\n",
       "      <th>negative/neutral/positive</th>\n",
       "      <th>valid</th>\n",
       "      <th>filtered_description</th>\n",
       "    </tr>\n",
       "  </thead>\n",
       "  <tbody>\n",
       "    <tr>\n",
       "      <th>0</th>\n",
       "      <td>2</td>\n",
       "      <td>Biztoc.com</td>\n",
       "      <td>breakingthenews.net</td>\n",
       "      <td>JD Vance slams Harris: 'Tomorrow, you're fired'</td>\n",
       "      <td>Republican vice presidential candidate JD Vanc...</td>\n",
       "      <td>https://biztoc.com/x/c4c538f75498736e</td>\n",
       "      <td>2024-11-04T22:53:56Z</td>\n",
       "      <td>NaN</td>\n",
       "      <td>NaN</td>\n",
       "      <td>True</td>\n",
       "      <td>republican vice presidential candidate jd vanc...</td>\n",
       "    </tr>\n",
       "    <tr>\n",
       "      <th>1</th>\n",
       "      <td>3</td>\n",
       "      <td>Biztoc.com</td>\n",
       "      <td>nbcnews.com</td>\n",
       "      <td>'Feels kind of weird': Vance reflects and look...</td>\n",
       "      <td>Sen. JD Vance, who says running as Trump's VP ...</td>\n",
       "      <td>https://biztoc.com/x/339813fc9b9bc9be</td>\n",
       "      <td>2024-11-04T22:53:24Z</td>\n",
       "      <td>NaN</td>\n",
       "      <td>NaN</td>\n",
       "      <td>True</td>\n",
       "      <td>sen jd vance says running trump's vp pick cost...</td>\n",
       "    </tr>\n",
       "    <tr>\n",
       "      <th>2</th>\n",
       "      <td>6</td>\n",
       "      <td>NBC News</td>\n",
       "      <td>Henry J. Gomez and Alec Hernández</td>\n",
       "      <td>'Feels kind of weird': Vance reflects and look...</td>\n",
       "      <td>Sen. JD Vance, who says running as Trump's VP ...</td>\n",
       "      <td>https://www.nbcnews.com/politics/2024-election...</td>\n",
       "      <td>2024-11-04T22:15:42Z</td>\n",
       "      <td>NaN</td>\n",
       "      <td>NaN</td>\n",
       "      <td>True</td>\n",
       "      <td>sen jd vance says running trump's vp pick cost...</td>\n",
       "    </tr>\n",
       "    <tr>\n",
       "      <th>3</th>\n",
       "      <td>7</td>\n",
       "      <td>Bleeding Cool News</td>\n",
       "      <td>Ray Flook</td>\n",
       "      <td>Last Week Tonight: HBO Releases John Oliver Se...</td>\n",
       "      <td>For us, Sunday night's edition of HBO's Last W...</td>\n",
       "      <td>https://bleedingcool.com/tv/last-week-tonight-...</td>\n",
       "      <td>2024-11-04T15:07:08Z</td>\n",
       "      <td>NaN</td>\n",
       "      <td>NaN</td>\n",
       "      <td>True</td>\n",
       "      <td>us sunday night's edition hbo's last week toni...</td>\n",
       "    </tr>\n",
       "    <tr>\n",
       "      <th>4</th>\n",
       "      <td>10</td>\n",
       "      <td>New York Post</td>\n",
       "      <td>Emily Crane</td>\n",
       "      <td>JD Vance says Trump is ‘fired up’ over death o...</td>\n",
       "      <td>Republican vice presidential candidate JD Vanc...</td>\n",
       "      <td>https://nypost.com/2024/11/04/us-news/jd-vance...</td>\n",
       "      <td>2024-11-04T15:06:04Z</td>\n",
       "      <td>NaN</td>\n",
       "      <td>NaN</td>\n",
       "      <td>True</td>\n",
       "      <td>republican vice presidential candidate jd vanc...</td>\n",
       "    </tr>\n",
       "  </tbody>\n",
       "</table>\n",
       "</div>"
      ],
      "text/plain": [
       "   Unnamed: 0              source                             author  \\\n",
       "0           2          Biztoc.com                breakingthenews.net   \n",
       "1           3          Biztoc.com                        nbcnews.com   \n",
       "2           6            NBC News  Henry J. Gomez and Alec Hernández   \n",
       "3           7  Bleeding Cool News                          Ray Flook   \n",
       "4          10       New York Post                        Emily Crane   \n",
       "\n",
       "                                               title  \\\n",
       "0    JD Vance slams Harris: 'Tomorrow, you're fired'   \n",
       "1  'Feels kind of weird': Vance reflects and look...   \n",
       "2  'Feels kind of weird': Vance reflects and look...   \n",
       "3  Last Week Tonight: HBO Releases John Oliver Se...   \n",
       "4  JD Vance says Trump is ‘fired up’ over death o...   \n",
       "\n",
       "                                         description  \\\n",
       "0  Republican vice presidential candidate JD Vanc...   \n",
       "1  Sen. JD Vance, who says running as Trump's VP ...   \n",
       "2  Sen. JD Vance, who says running as Trump's VP ...   \n",
       "3  For us, Sunday night's edition of HBO's Last W...   \n",
       "4  Republican vice presidential candidate JD Vanc...   \n",
       "\n",
       "                                                 url           publishedAt  \\\n",
       "0              https://biztoc.com/x/c4c538f75498736e  2024-11-04T22:53:56Z   \n",
       "1              https://biztoc.com/x/339813fc9b9bc9be  2024-11-04T22:53:24Z   \n",
       "2  https://www.nbcnews.com/politics/2024-election...  2024-11-04T22:15:42Z   \n",
       "3  https://bleedingcool.com/tv/last-week-tonight-...  2024-11-04T15:07:08Z   \n",
       "4  https://nypost.com/2024/11/04/us-news/jd-vance...  2024-11-04T15:06:04Z   \n",
       "\n",
       "   topic  negative/neutral/positive  valid  \\\n",
       "0    NaN                        NaN   True   \n",
       "1    NaN                        NaN   True   \n",
       "2    NaN                        NaN   True   \n",
       "3    NaN                        NaN   True   \n",
       "4    NaN                        NaN   True   \n",
       "\n",
       "                                filtered_description  \n",
       "0  republican vice presidential candidate jd vanc...  \n",
       "1  sen jd vance says running trump's vp pick cost...  \n",
       "2  sen jd vance says running trump's vp pick cost...  \n",
       "3  us sunday night's edition hbo's last week toni...  \n",
       "4  republican vice presidential candidate jd vanc...  "
      ]
     },
     "execution_count": 89,
     "metadata": {},
     "output_type": "execute_result"
    }
   ],
   "source": [
    "df.head()"
   ]
  },
  {
   "cell_type": "code",
   "execution_count": null,
   "metadata": {},
   "outputs": [],
   "source": []
  }
 ],
 "metadata": {
  "kernelspec": {
   "display_name": "c370",
   "language": "python",
   "name": "python3"
  },
  "language_info": {
   "codemirror_mode": {
    "name": "ipython",
    "version": 3
   },
   "file_extension": ".py",
   "mimetype": "text/x-python",
   "name": "python",
   "nbconvert_exporter": "python",
   "pygments_lexer": "ipython3",
   "version": "3.12.5"
  }
 },
 "nbformat": 4,
 "nbformat_minor": 2
}
