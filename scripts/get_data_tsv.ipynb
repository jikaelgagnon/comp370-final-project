{
 "cells": [
  {
   "cell_type": "code",
   "execution_count": 26,
   "metadata": {},
   "outputs": [],
   "source": [
    "import pandas as pd\n",
    "import json\n",
    "import os"
   ]
  },
  {
   "cell_type": "code",
   "execution_count": 27,
   "metadata": {},
   "outputs": [],
   "source": [
    "def get_merged_dfs(folder):\n",
    "    dfs = []\n",
    "    for file in os.listdir(folder):\n",
    "        filename = os.path.join(folder, os.fsdecode(file))\n",
    "        if not filename.endswith(\".json\"):\n",
    "            continue\n",
    "        with open(filename) as f:\n",
    "            json_file = json.load(f)\n",
    "            data = json_file['articles']\n",
    "            df = pd.DataFrame(data)\n",
    "            df = df[df['title'] != '[Removed]'] # filter out removed articles\n",
    "            df['source'] = df['source'].map(lambda x: x['name'])\n",
    "            df['topic'] = ''\n",
    "            df['negative/neutral/positive'] = ''\n",
    "            df = df.drop(['urlToImage','content'], axis=1)\n",
    "            dfs.append(df)\n",
    "    return pd.concat(dfs)"
   ]
  },
  {
   "cell_type": "code",
   "execution_count": 30,
   "metadata": {},
   "outputs": [],
   "source": [
    "df = get_merged_dfs('../datasets')\n",
    "df.to_csv('vance.tsv', sep='\\t')"
   ]
  },
  {
   "cell_type": "code",
   "execution_count": 29,
   "metadata": {},
   "outputs": [
    {
     "data": {
      "text/html": [
       "<div>\n",
       "<style scoped>\n",
       "    .dataframe tbody tr th:only-of-type {\n",
       "        vertical-align: middle;\n",
       "    }\n",
       "\n",
       "    .dataframe tbody tr th {\n",
       "        vertical-align: top;\n",
       "    }\n",
       "\n",
       "    .dataframe thead th {\n",
       "        text-align: right;\n",
       "    }\n",
       "</style>\n",
       "<table border=\"1\" class=\"dataframe\">\n",
       "  <thead>\n",
       "    <tr style=\"text-align: right;\">\n",
       "      <th></th>\n",
       "      <th>source</th>\n",
       "      <th>author</th>\n",
       "      <th>title</th>\n",
       "      <th>description</th>\n",
       "      <th>url</th>\n",
       "      <th>publishedAt</th>\n",
       "      <th>topic</th>\n",
       "      <th>negative/neutral/positive</th>\n",
       "    </tr>\n",
       "  </thead>\n",
       "  <tbody>\n",
       "    <tr>\n",
       "      <th>0</th>\n",
       "      <td>The New Republic</td>\n",
       "      <td>Ellie Quinlan Houghtaling</td>\n",
       "      <td>Team Trump’s Final Plea to Voters Is, Frankly,...</td>\n",
       "      <td>In the final hours of the presidential race, t...</td>\n",
       "      <td>https://newrepublic.com/post/187919/donald-tru...</td>\n",
       "      <td>2024-11-04T22:39:02Z</td>\n",
       "      <td></td>\n",
       "      <td></td>\n",
       "    </tr>\n",
       "    <tr>\n",
       "      <th>1</th>\n",
       "      <td>The New Republic</td>\n",
       "      <td>Parker Molloy</td>\n",
       "      <td>We Already Know One Big Loser in This Election...</td>\n",
       "      <td>Americans will head to the polls Tuesday in wh...</td>\n",
       "      <td>https://newrepublic.com/article/187890/2024-el...</td>\n",
       "      <td>2024-11-04T18:43:19Z</td>\n",
       "      <td></td>\n",
       "      <td></td>\n",
       "    </tr>\n",
       "    <tr>\n",
       "      <th>2</th>\n",
       "      <td>Biztoc.com</td>\n",
       "      <td>breakingthenews.net</td>\n",
       "      <td>JD Vance slams Harris: 'Tomorrow, you're fired'</td>\n",
       "      <td>Republican vice presidential candidate JD Vanc...</td>\n",
       "      <td>https://biztoc.com/x/c4c538f75498736e</td>\n",
       "      <td>2024-11-04T22:53:56Z</td>\n",
       "      <td></td>\n",
       "      <td></td>\n",
       "    </tr>\n",
       "    <tr>\n",
       "      <th>3</th>\n",
       "      <td>Biztoc.com</td>\n",
       "      <td>nbcnews.com</td>\n",
       "      <td>'Feels kind of weird': Vance reflects and look...</td>\n",
       "      <td>Sen. JD Vance, who says running as Trump's VP ...</td>\n",
       "      <td>https://biztoc.com/x/339813fc9b9bc9be</td>\n",
       "      <td>2024-11-04T22:53:24Z</td>\n",
       "      <td></td>\n",
       "      <td></td>\n",
       "    </tr>\n",
       "    <tr>\n",
       "      <th>4</th>\n",
       "      <td>TheBlaze</td>\n",
       "      <td>Christopher Bedford</td>\n",
       "      <td>MAGA’s second chance (and the future of populism)</td>\n",
       "      <td>Tomorrow is MAGA’s big day. A lot is on the li...</td>\n",
       "      <td>https://www.theblaze.com/columns/opinion/magas...</td>\n",
       "      <td>2024-11-04T11:57:21Z</td>\n",
       "      <td></td>\n",
       "      <td></td>\n",
       "    </tr>\n",
       "  </tbody>\n",
       "</table>\n",
       "</div>"
      ],
      "text/plain": [
       "             source                     author  \\\n",
       "0  The New Republic  Ellie Quinlan Houghtaling   \n",
       "1  The New Republic              Parker Molloy   \n",
       "2        Biztoc.com        breakingthenews.net   \n",
       "3        Biztoc.com                nbcnews.com   \n",
       "4          TheBlaze        Christopher Bedford   \n",
       "\n",
       "                                               title  \\\n",
       "0  Team Trump’s Final Plea to Voters Is, Frankly,...   \n",
       "1  We Already Know One Big Loser in This Election...   \n",
       "2    JD Vance slams Harris: 'Tomorrow, you're fired'   \n",
       "3  'Feels kind of weird': Vance reflects and look...   \n",
       "4  MAGA’s second chance (and the future of populism)   \n",
       "\n",
       "                                         description  \\\n",
       "0  In the final hours of the presidential race, t...   \n",
       "1  Americans will head to the polls Tuesday in wh...   \n",
       "2  Republican vice presidential candidate JD Vanc...   \n",
       "3  Sen. JD Vance, who says running as Trump's VP ...   \n",
       "4  Tomorrow is MAGA’s big day. A lot is on the li...   \n",
       "\n",
       "                                                 url           publishedAt  \\\n",
       "0  https://newrepublic.com/post/187919/donald-tru...  2024-11-04T22:39:02Z   \n",
       "1  https://newrepublic.com/article/187890/2024-el...  2024-11-04T18:43:19Z   \n",
       "2              https://biztoc.com/x/c4c538f75498736e  2024-11-04T22:53:56Z   \n",
       "3              https://biztoc.com/x/339813fc9b9bc9be  2024-11-04T22:53:24Z   \n",
       "4  https://www.theblaze.com/columns/opinion/magas...  2024-11-04T11:57:21Z   \n",
       "\n",
       "  topic negative/neutral/positive  \n",
       "0                                  \n",
       "1                                  \n",
       "2                                  \n",
       "3                                  \n",
       "4                                  "
      ]
     },
     "execution_count": 29,
     "metadata": {},
     "output_type": "execute_result"
    }
   ],
   "source": [
    "df.head()"
   ]
  },
  {
   "cell_type": "code",
   "execution_count": 17,
   "metadata": {},
   "outputs": [],
   "source": [
    "with open('../test/Poilievre.json') as f:\n",
    "    l = json.load(f)"
   ]
  },
  {
   "cell_type": "code",
   "execution_count": 24,
   "metadata": {},
   "outputs": [
    {
     "data": {
      "text/plain": [
       "False"
      ]
     },
     "execution_count": 24,
     "metadata": {},
     "output_type": "execute_result"
    }
   ],
   "source": [
    "s = 'poilievre'\n",
    "in_all = True\n",
    "for d in l:\n",
    "    in_all = in_all and ((s in d['title'].lower()) or (s in d['description'].lower()))\n",
    "in_all"
   ]
  },
  {
   "cell_type": "code",
   "execution_count": null,
   "metadata": {},
   "outputs": [],
   "source": []
  }
 ],
 "metadata": {
  "kernelspec": {
   "display_name": "c370",
   "language": "python",
   "name": "python3"
  },
  "language_info": {
   "codemirror_mode": {
    "name": "ipython",
    "version": 3
   },
   "file_extension": ".py",
   "mimetype": "text/x-python",
   "name": "python",
   "nbconvert_exporter": "python",
   "pygments_lexer": "ipython3",
   "version": "3.12.5"
  }
 },
 "nbformat": 4,
 "nbformat_minor": 2
}
