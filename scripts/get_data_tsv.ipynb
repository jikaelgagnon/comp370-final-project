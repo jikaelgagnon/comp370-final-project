{
 "cells": [
  {
   "cell_type": "code",
   "execution_count": 26,
   "metadata": {},
   "outputs": [],
   "source": [
    "import pandas as pd\n",
    "import json\n",
    "import os"
   ]
  },
  {
   "cell_type": "code",
   "execution_count": 34,
   "metadata": {},
   "outputs": [],
   "source": [
    "def get_merged_dfs(folder, keyword):\n",
    "    dfs = []\n",
    "    for file in os.listdir(folder):\n",
    "        filename = os.path.join(folder, os.fsdecode(file))\n",
    "        if not filename.endswith(\".json\"):\n",
    "            continue\n",
    "        with open(filename) as f:\n",
    "            json_file = json.load(f)\n",
    "            data = json_file['articles']\n",
    "            df = pd.DataFrame(data)\n",
    "            df = df[df['title'] != '[Removed]'] # filter out removed articles\n",
    "            df = df[(df['title'].str.contains(keyword)) | (df['description'].str.contains(keyword))]\n",
    "            df['source'] = df['source'].map(lambda x: x['name'])\n",
    "            df['topic'] = ''\n",
    "            df['negative/neutral/positive'] = ''\n",
    "            df = df.drop(['urlToImage','content'], axis=1)\n",
    "            dfs.append(df)\n",
    "    return pd.concat(dfs)"
   ]
  },
  {
   "cell_type": "code",
   "execution_count": 45,
   "metadata": {},
   "outputs": [],
   "source": [
    "df = get_merged_dfs('../datasets', 'JD Vance')\n",
    "df.to_csv('../data/vance.tsv', sep='\\t')"
   ]
  },
  {
   "cell_type": "code",
   "execution_count": 46,
   "metadata": {},
   "outputs": [
    {
     "data": {
      "text/plain": [
       "512"
      ]
     },
     "execution_count": 46,
     "metadata": {},
     "output_type": "execute_result"
    }
   ],
   "source": [
    "len(df)"
   ]
  }
 ],
 "metadata": {
  "kernelspec": {
   "display_name": "c370",
   "language": "python",
   "name": "python3"
  },
  "language_info": {
   "codemirror_mode": {
    "name": "ipython",
    "version": 3
   },
   "file_extension": ".py",
   "mimetype": "text/x-python",
   "name": "python",
   "nbconvert_exporter": "python",
   "pygments_lexer": "ipython3",
   "version": "3.12.5"
  }
 },
 "nbformat": 4,
 "nbformat_minor": 2
}
